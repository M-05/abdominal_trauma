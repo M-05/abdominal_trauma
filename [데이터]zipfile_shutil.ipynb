{
  "nbformat": 4,
  "nbformat_minor": 0,
  "metadata": {
    "colab": {
      "provenance": [],
      "gpuType": "T4"
    },
    "kernelspec": {
      "name": "python3",
      "display_name": "Python 3"
    },
    "language_info": {
      "name": "python"
    },
    "accelerator": "GPU"
  },
  "cells": [
    {
      "cell_type": "code",
      "source": [
        "import os\n",
        "import zipfile\n",
        "import shutil\n",
        "\n",
        "import pandas as pd\n",
        "from tqdm import tqdm"
      ],
      "metadata": {
        "id": "oYsczJ47GPpE"
      },
      "execution_count": null,
      "outputs": []
    },
    {
      "cell_type": "code",
      "source": [
        "from google.colab import drive\n",
        "drive.mount('./content')"
      ],
      "metadata": {
        "colab": {
          "base_uri": "https://localhost:8080/"
        },
        "id": "Vrz5Tia4GTwo",
        "outputId": "b4f2fdcd-4958-4a64-b472-4ee2e948d603"
      },
      "execution_count": null,
      "outputs": [
        {
          "output_type": "stream",
          "name": "stdout",
          "text": [
            "Mounted at ./content\n"
          ]
        }
      ]
    },
    {
      "cell_type": "code",
      "source": [
        "path = \"content/MyDrive/data/\""
      ],
      "metadata": {
        "id": "61DU1rEWGsfB"
      },
      "execution_count": null,
      "outputs": []
    },
    {
      "cell_type": "code",
      "source": [
        "os.listdir(path)"
      ],
      "metadata": {
        "colab": {
          "base_uri": "https://localhost:8080/"
        },
        "id": "hyHrvAjZG1qp",
        "outputId": "a9ea75f5-dbd9-4625-d53f-6b21210a44dc"
      },
      "execution_count": null,
      "outputs": [
        {
          "output_type": "execute_result",
          "data": {
            "text/plain": [
              "['train_series_meta.csv',\n",
              " 'segmentations',\n",
              " 'image_level_labels.csv',\n",
              " 'sample_submission.csv',\n",
              " 'test_dicom_tags.parquet',\n",
              " 'test_images',\n",
              " 'test_series_meta.csv',\n",
              " 'train.csv',\n",
              " 'train_dicom_tags.parquet',\n",
              " 'rsna-2023-abdominal-trauma-detection.zip',\n",
              " 'merged_df.csv',\n",
              " 'train_images',\n",
              " 'try_data']"
            ]
          },
          "metadata": {},
          "execution_count": 9
        }
      ]
    },
    {
      "cell_type": "code",
      "source": [
        "df = pd.read_csv(path + '/merged_df.csv')"
      ],
      "metadata": {
        "id": "oQahMf82GX3R"
      },
      "execution_count": null,
      "outputs": []
    },
    {
      "cell_type": "code",
      "source": [
        "df.head()"
      ],
      "metadata": {
        "colab": {
          "base_uri": "https://localhost:8080/",
          "height": 256
        },
        "id": "a6gpJ8qVHAov",
        "outputId": "03395242-9991-4099-ce47-ba1f87323800"
      },
      "execution_count": null,
      "outputs": [
        {
          "output_type": "execute_result",
          "data": {
            "text/plain": [
              "   patient_id  bowel_healthy  bowel_injury  extravasation_healthy  \\\n",
              "0       10004              1             0                      0   \n",
              "1       10004              1             0                      0   \n",
              "2       10004              1             0                      0   \n",
              "3       10004              1             0                      0   \n",
              "4       10004              1             0                      0   \n",
              "\n",
              "   extravasation_injury  kidney_healthy  kidney_low  kidney_high  \\\n",
              "0                     1               0           1            0   \n",
              "1                     1               0           1            0   \n",
              "2                     1               0           1            0   \n",
              "3                     1               0           1            0   \n",
              "4                     1               0           1            0   \n",
              "\n",
              "   liver_healthy  liver_low  ...  spleen_healthy  spleen_low  spleen_high  \\\n",
              "0              1          0  ...               0           0            1   \n",
              "1              1          0  ...               0           0            1   \n",
              "2              1          0  ...               0           0            1   \n",
              "3              1          0  ...               0           0            1   \n",
              "4              1          0  ...               0           0            1   \n",
              "\n",
              "   any_injury  series_id  instance_number           injury_name  \\\n",
              "0           1      21057              362  Active_Extravasation   \n",
              "1           1      21057              363  Active_Extravasation   \n",
              "2           1      21057              364  Active_Extravasation   \n",
              "3           1      21057              365  Active_Extravasation   \n",
              "4           1      21057              366  Active_Extravasation   \n",
              "\n",
              "                               path aortic_hu  incomplete_organ  \n",
              "0  train_images/10004/21057/362.dcm     146.0                 0  \n",
              "1  train_images/10004/21057/363.dcm     146.0                 0  \n",
              "2  train_images/10004/21057/364.dcm     146.0                 0  \n",
              "3  train_images/10004/21057/365.dcm     146.0                 0  \n",
              "4  train_images/10004/21057/366.dcm     146.0                 0  \n",
              "\n",
              "[5 rows x 21 columns]"
            ],
            "text/html": [
              "\n",
              "  <div id=\"df-9b9929c3-ae44-4550-9127-a46b005e009d\" class=\"colab-df-container\">\n",
              "    <div>\n",
              "<style scoped>\n",
              "    .dataframe tbody tr th:only-of-type {\n",
              "        vertical-align: middle;\n",
              "    }\n",
              "\n",
              "    .dataframe tbody tr th {\n",
              "        vertical-align: top;\n",
              "    }\n",
              "\n",
              "    .dataframe thead th {\n",
              "        text-align: right;\n",
              "    }\n",
              "</style>\n",
              "<table border=\"1\" class=\"dataframe\">\n",
              "  <thead>\n",
              "    <tr style=\"text-align: right;\">\n",
              "      <th></th>\n",
              "      <th>patient_id</th>\n",
              "      <th>bowel_healthy</th>\n",
              "      <th>bowel_injury</th>\n",
              "      <th>extravasation_healthy</th>\n",
              "      <th>extravasation_injury</th>\n",
              "      <th>kidney_healthy</th>\n",
              "      <th>kidney_low</th>\n",
              "      <th>kidney_high</th>\n",
              "      <th>liver_healthy</th>\n",
              "      <th>liver_low</th>\n",
              "      <th>...</th>\n",
              "      <th>spleen_healthy</th>\n",
              "      <th>spleen_low</th>\n",
              "      <th>spleen_high</th>\n",
              "      <th>any_injury</th>\n",
              "      <th>series_id</th>\n",
              "      <th>instance_number</th>\n",
              "      <th>injury_name</th>\n",
              "      <th>path</th>\n",
              "      <th>aortic_hu</th>\n",
              "      <th>incomplete_organ</th>\n",
              "    </tr>\n",
              "  </thead>\n",
              "  <tbody>\n",
              "    <tr>\n",
              "      <th>0</th>\n",
              "      <td>10004</td>\n",
              "      <td>1</td>\n",
              "      <td>0</td>\n",
              "      <td>0</td>\n",
              "      <td>1</td>\n",
              "      <td>0</td>\n",
              "      <td>1</td>\n",
              "      <td>0</td>\n",
              "      <td>1</td>\n",
              "      <td>0</td>\n",
              "      <td>...</td>\n",
              "      <td>0</td>\n",
              "      <td>0</td>\n",
              "      <td>1</td>\n",
              "      <td>1</td>\n",
              "      <td>21057</td>\n",
              "      <td>362</td>\n",
              "      <td>Active_Extravasation</td>\n",
              "      <td>train_images/10004/21057/362.dcm</td>\n",
              "      <td>146.0</td>\n",
              "      <td>0</td>\n",
              "    </tr>\n",
              "    <tr>\n",
              "      <th>1</th>\n",
              "      <td>10004</td>\n",
              "      <td>1</td>\n",
              "      <td>0</td>\n",
              "      <td>0</td>\n",
              "      <td>1</td>\n",
              "      <td>0</td>\n",
              "      <td>1</td>\n",
              "      <td>0</td>\n",
              "      <td>1</td>\n",
              "      <td>0</td>\n",
              "      <td>...</td>\n",
              "      <td>0</td>\n",
              "      <td>0</td>\n",
              "      <td>1</td>\n",
              "      <td>1</td>\n",
              "      <td>21057</td>\n",
              "      <td>363</td>\n",
              "      <td>Active_Extravasation</td>\n",
              "      <td>train_images/10004/21057/363.dcm</td>\n",
              "      <td>146.0</td>\n",
              "      <td>0</td>\n",
              "    </tr>\n",
              "    <tr>\n",
              "      <th>2</th>\n",
              "      <td>10004</td>\n",
              "      <td>1</td>\n",
              "      <td>0</td>\n",
              "      <td>0</td>\n",
              "      <td>1</td>\n",
              "      <td>0</td>\n",
              "      <td>1</td>\n",
              "      <td>0</td>\n",
              "      <td>1</td>\n",
              "      <td>0</td>\n",
              "      <td>...</td>\n",
              "      <td>0</td>\n",
              "      <td>0</td>\n",
              "      <td>1</td>\n",
              "      <td>1</td>\n",
              "      <td>21057</td>\n",
              "      <td>364</td>\n",
              "      <td>Active_Extravasation</td>\n",
              "      <td>train_images/10004/21057/364.dcm</td>\n",
              "      <td>146.0</td>\n",
              "      <td>0</td>\n",
              "    </tr>\n",
              "    <tr>\n",
              "      <th>3</th>\n",
              "      <td>10004</td>\n",
              "      <td>1</td>\n",
              "      <td>0</td>\n",
              "      <td>0</td>\n",
              "      <td>1</td>\n",
              "      <td>0</td>\n",
              "      <td>1</td>\n",
              "      <td>0</td>\n",
              "      <td>1</td>\n",
              "      <td>0</td>\n",
              "      <td>...</td>\n",
              "      <td>0</td>\n",
              "      <td>0</td>\n",
              "      <td>1</td>\n",
              "      <td>1</td>\n",
              "      <td>21057</td>\n",
              "      <td>365</td>\n",
              "      <td>Active_Extravasation</td>\n",
              "      <td>train_images/10004/21057/365.dcm</td>\n",
              "      <td>146.0</td>\n",
              "      <td>0</td>\n",
              "    </tr>\n",
              "    <tr>\n",
              "      <th>4</th>\n",
              "      <td>10004</td>\n",
              "      <td>1</td>\n",
              "      <td>0</td>\n",
              "      <td>0</td>\n",
              "      <td>1</td>\n",
              "      <td>0</td>\n",
              "      <td>1</td>\n",
              "      <td>0</td>\n",
              "      <td>1</td>\n",
              "      <td>0</td>\n",
              "      <td>...</td>\n",
              "      <td>0</td>\n",
              "      <td>0</td>\n",
              "      <td>1</td>\n",
              "      <td>1</td>\n",
              "      <td>21057</td>\n",
              "      <td>366</td>\n",
              "      <td>Active_Extravasation</td>\n",
              "      <td>train_images/10004/21057/366.dcm</td>\n",
              "      <td>146.0</td>\n",
              "      <td>0</td>\n",
              "    </tr>\n",
              "  </tbody>\n",
              "</table>\n",
              "<p>5 rows × 21 columns</p>\n",
              "</div>\n",
              "    <div class=\"colab-df-buttons\">\n",
              "\n",
              "  <div class=\"colab-df-container\">\n",
              "    <button class=\"colab-df-convert\" onclick=\"convertToInteractive('df-9b9929c3-ae44-4550-9127-a46b005e009d')\"\n",
              "            title=\"Convert this dataframe to an interactive table.\"\n",
              "            style=\"display:none;\">\n",
              "\n",
              "  <svg xmlns=\"http://www.w3.org/2000/svg\" height=\"24px\" viewBox=\"0 -960 960 960\">\n",
              "    <path d=\"M120-120v-720h720v720H120Zm60-500h600v-160H180v160Zm220 220h160v-160H400v160Zm0 220h160v-160H400v160ZM180-400h160v-160H180v160Zm440 0h160v-160H620v160ZM180-180h160v-160H180v160Zm440 0h160v-160H620v160Z\"/>\n",
              "  </svg>\n",
              "    </button>\n",
              "\n",
              "  <style>\n",
              "    .colab-df-container {\n",
              "      display:flex;\n",
              "      gap: 12px;\n",
              "    }\n",
              "\n",
              "    .colab-df-convert {\n",
              "      background-color: #E8F0FE;\n",
              "      border: none;\n",
              "      border-radius: 50%;\n",
              "      cursor: pointer;\n",
              "      display: none;\n",
              "      fill: #1967D2;\n",
              "      height: 32px;\n",
              "      padding: 0 0 0 0;\n",
              "      width: 32px;\n",
              "    }\n",
              "\n",
              "    .colab-df-convert:hover {\n",
              "      background-color: #E2EBFA;\n",
              "      box-shadow: 0px 1px 2px rgba(60, 64, 67, 0.3), 0px 1px 3px 1px rgba(60, 64, 67, 0.15);\n",
              "      fill: #174EA6;\n",
              "    }\n",
              "\n",
              "    .colab-df-buttons div {\n",
              "      margin-bottom: 4px;\n",
              "    }\n",
              "\n",
              "    [theme=dark] .colab-df-convert {\n",
              "      background-color: #3B4455;\n",
              "      fill: #D2E3FC;\n",
              "    }\n",
              "\n",
              "    [theme=dark] .colab-df-convert:hover {\n",
              "      background-color: #434B5C;\n",
              "      box-shadow: 0px 1px 3px 1px rgba(0, 0, 0, 0.15);\n",
              "      filter: drop-shadow(0px 1px 2px rgba(0, 0, 0, 0.3));\n",
              "      fill: #FFFFFF;\n",
              "    }\n",
              "  </style>\n",
              "\n",
              "    <script>\n",
              "      const buttonEl =\n",
              "        document.querySelector('#df-9b9929c3-ae44-4550-9127-a46b005e009d button.colab-df-convert');\n",
              "      buttonEl.style.display =\n",
              "        google.colab.kernel.accessAllowed ? 'block' : 'none';\n",
              "\n",
              "      async function convertToInteractive(key) {\n",
              "        const element = document.querySelector('#df-9b9929c3-ae44-4550-9127-a46b005e009d');\n",
              "        const dataTable =\n",
              "          await google.colab.kernel.invokeFunction('convertToInteractive',\n",
              "                                                    [key], {});\n",
              "        if (!dataTable) return;\n",
              "\n",
              "        const docLinkHtml = 'Like what you see? Visit the ' +\n",
              "          '<a target=\"_blank\" href=https://colab.research.google.com/notebooks/data_table.ipynb>data table notebook</a>'\n",
              "          + ' to learn more about interactive tables.';\n",
              "        element.innerHTML = '';\n",
              "        dataTable['output_type'] = 'display_data';\n",
              "        await google.colab.output.renderOutput(dataTable, element);\n",
              "        const docLink = document.createElement('div');\n",
              "        docLink.innerHTML = docLinkHtml;\n",
              "        element.appendChild(docLink);\n",
              "      }\n",
              "    </script>\n",
              "  </div>\n",
              "\n",
              "\n",
              "<div id=\"df-110d3876-0322-4c65-bd5f-7cae9f661bd6\">\n",
              "  <button class=\"colab-df-quickchart\" onclick=\"quickchart('df-110d3876-0322-4c65-bd5f-7cae9f661bd6')\"\n",
              "            title=\"Suggest charts.\"\n",
              "            style=\"display:none;\">\n",
              "\n",
              "<svg xmlns=\"http://www.w3.org/2000/svg\" height=\"24px\"viewBox=\"0 0 24 24\"\n",
              "     width=\"24px\">\n",
              "    <g>\n",
              "        <path d=\"M19 3H5c-1.1 0-2 .9-2 2v14c0 1.1.9 2 2 2h14c1.1 0 2-.9 2-2V5c0-1.1-.9-2-2-2zM9 17H7v-7h2v7zm4 0h-2V7h2v10zm4 0h-2v-4h2v4z\"/>\n",
              "    </g>\n",
              "</svg>\n",
              "  </button>\n",
              "\n",
              "<style>\n",
              "  .colab-df-quickchart {\n",
              "      --bg-color: #E8F0FE;\n",
              "      --fill-color: #1967D2;\n",
              "      --hover-bg-color: #E2EBFA;\n",
              "      --hover-fill-color: #174EA6;\n",
              "      --disabled-fill-color: #AAA;\n",
              "      --disabled-bg-color: #DDD;\n",
              "  }\n",
              "\n",
              "  [theme=dark] .colab-df-quickchart {\n",
              "      --bg-color: #3B4455;\n",
              "      --fill-color: #D2E3FC;\n",
              "      --hover-bg-color: #434B5C;\n",
              "      --hover-fill-color: #FFFFFF;\n",
              "      --disabled-bg-color: #3B4455;\n",
              "      --disabled-fill-color: #666;\n",
              "  }\n",
              "\n",
              "  .colab-df-quickchart {\n",
              "    background-color: var(--bg-color);\n",
              "    border: none;\n",
              "    border-radius: 50%;\n",
              "    cursor: pointer;\n",
              "    display: none;\n",
              "    fill: var(--fill-color);\n",
              "    height: 32px;\n",
              "    padding: 0;\n",
              "    width: 32px;\n",
              "  }\n",
              "\n",
              "  .colab-df-quickchart:hover {\n",
              "    background-color: var(--hover-bg-color);\n",
              "    box-shadow: 0 1px 2px rgba(60, 64, 67, 0.3), 0 1px 3px 1px rgba(60, 64, 67, 0.15);\n",
              "    fill: var(--button-hover-fill-color);\n",
              "  }\n",
              "\n",
              "  .colab-df-quickchart-complete:disabled,\n",
              "  .colab-df-quickchart-complete:disabled:hover {\n",
              "    background-color: var(--disabled-bg-color);\n",
              "    fill: var(--disabled-fill-color);\n",
              "    box-shadow: none;\n",
              "  }\n",
              "\n",
              "  .colab-df-spinner {\n",
              "    border: 2px solid var(--fill-color);\n",
              "    border-color: transparent;\n",
              "    border-bottom-color: var(--fill-color);\n",
              "    animation:\n",
              "      spin 1s steps(1) infinite;\n",
              "  }\n",
              "\n",
              "  @keyframes spin {\n",
              "    0% {\n",
              "      border-color: transparent;\n",
              "      border-bottom-color: var(--fill-color);\n",
              "      border-left-color: var(--fill-color);\n",
              "    }\n",
              "    20% {\n",
              "      border-color: transparent;\n",
              "      border-left-color: var(--fill-color);\n",
              "      border-top-color: var(--fill-color);\n",
              "    }\n",
              "    30% {\n",
              "      border-color: transparent;\n",
              "      border-left-color: var(--fill-color);\n",
              "      border-top-color: var(--fill-color);\n",
              "      border-right-color: var(--fill-color);\n",
              "    }\n",
              "    40% {\n",
              "      border-color: transparent;\n",
              "      border-right-color: var(--fill-color);\n",
              "      border-top-color: var(--fill-color);\n",
              "    }\n",
              "    60% {\n",
              "      border-color: transparent;\n",
              "      border-right-color: var(--fill-color);\n",
              "    }\n",
              "    80% {\n",
              "      border-color: transparent;\n",
              "      border-right-color: var(--fill-color);\n",
              "      border-bottom-color: var(--fill-color);\n",
              "    }\n",
              "    90% {\n",
              "      border-color: transparent;\n",
              "      border-bottom-color: var(--fill-color);\n",
              "    }\n",
              "  }\n",
              "</style>\n",
              "\n",
              "  <script>\n",
              "    async function quickchart(key) {\n",
              "      const quickchartButtonEl =\n",
              "        document.querySelector('#' + key + ' button');\n",
              "      quickchartButtonEl.disabled = true;  // To prevent multiple clicks.\n",
              "      quickchartButtonEl.classList.add('colab-df-spinner');\n",
              "      try {\n",
              "        const charts = await google.colab.kernel.invokeFunction(\n",
              "            'suggestCharts', [key], {});\n",
              "      } catch (error) {\n",
              "        console.error('Error during call to suggestCharts:', error);\n",
              "      }\n",
              "      quickchartButtonEl.classList.remove('colab-df-spinner');\n",
              "      quickchartButtonEl.classList.add('colab-df-quickchart-complete');\n",
              "    }\n",
              "    (() => {\n",
              "      let quickchartButtonEl =\n",
              "        document.querySelector('#df-110d3876-0322-4c65-bd5f-7cae9f661bd6 button');\n",
              "      quickchartButtonEl.style.display =\n",
              "        google.colab.kernel.accessAllowed ? 'block' : 'none';\n",
              "    })();\n",
              "  </script>\n",
              "</div>\n",
              "    </div>\n",
              "  </div>\n"
            ]
          },
          "metadata": {},
          "execution_count": 11
        }
      ]
    },
    {
      "cell_type": "code",
      "source": [
        "df.columns"
      ],
      "metadata": {
        "colab": {
          "base_uri": "https://localhost:8080/"
        },
        "id": "1uekAQFpHOFj",
        "outputId": "29eed6e2-25a7-4281-fbbb-bfe627d3d0b0"
      },
      "execution_count": null,
      "outputs": [
        {
          "output_type": "execute_result",
          "data": {
            "text/plain": [
              "Index(['patient_id', 'bowel_healthy', 'bowel_injury', 'extravasation_healthy',\n",
              "       'extravasation_injury', 'kidney_healthy', 'kidney_low', 'kidney_high',\n",
              "       'liver_healthy', 'liver_low', 'liver_high', 'spleen_healthy',\n",
              "       'spleen_low', 'spleen_high', 'any_injury', 'series_id',\n",
              "       'instance_number', 'injury_name', 'path', 'aortic_hu',\n",
              "       'incomplete_organ'],\n",
              "      dtype='object')"
            ]
          },
          "metadata": {},
          "execution_count": 7
        }
      ]
    },
    {
      "cell_type": "code",
      "source": [
        "zip_path = os.path.join(path, 'rsna-2023-abdominal-trauma-detection.zip')"
      ],
      "metadata": {
        "id": "Ef0oKZ6Ho2t_"
      },
      "execution_count": null,
      "outputs": []
    },
    {
      "cell_type": "markdown",
      "source": [
        "### zip 파일안에서 원하는 데이터 추출 후 원하는 곳에 이동"
      ],
      "metadata": {
        "id": "a8CjMpbyqfLV"
      }
    },
    {
      "cell_type": "code",
      "source": [
        "img_paths = map(lambda x: x[13:], df['path'])\n",
        "\n",
        "with zipfile.ZipFile(zip_path, 'r') as zip:\n",
        "    for img_path in tqdm(img_paths):\n",
        "        img_path1 = img_path.split('/', 2)[0]\n",
        "        img_path2 = img_path.split('/', 2)[1]\n",
        "        img_dcm = img_path.split('/', 2)[2]\n",
        "\n",
        "        dcm_file_path = f'train_images/{img_path1}/{img_path2}/{img_dcm}'\n",
        "        destination_path = os.path.join(path, f'train_images/{img_path1}/{img_path2}/')\n",
        "\n",
        "        for folder_name in zip.namelist():\n",
        "            if folder_name.startswith(dcm_file_path):\n",
        "                zip.extract(folder_name)\n",
        "                try:\n",
        "                    shutil.move(dcm_file_path, destination_path)\n",
        "                except:\n",
        "                    pass"
      ],
      "metadata": {
        "colab": {
          "base_uri": "https://localhost:8080/"
        },
        "id": "qGPjA1SPRh1s",
        "outputId": "2ec94408-a378-4e0b-e037-8029f3ddd4e6"
      },
      "execution_count": null,
      "outputs": [
        {
          "output_type": "stream",
          "name": "stderr",
          "text": [
            "12029it [2:20:56,  1.42it/s]\n"
          ]
        }
      ]
    },
    {
      "cell_type": "markdown",
      "source": [
        "### 검증"
      ],
      "metadata": {
        "id": "A0kq-qALqc4i"
      }
    },
    {
      "cell_type": "code",
      "source": [
        "cnt = 0\n",
        "\n",
        "img_paths = filter(lambda x: x, df['path'])\n",
        "\n",
        "for img_path in tqdm(img_paths):\n",
        "    if os.path.exists(os.path.join(path, img_path)):\n",
        "        cnt += 1"
      ],
      "metadata": {
        "colab": {
          "base_uri": "https://localhost:8080/"
        },
        "id": "-t9DyjQ3pwKO",
        "outputId": "a11c3733-1823-4491-8824-57d9c47ad317"
      },
      "execution_count": null,
      "outputs": [
        {
          "output_type": "stream",
          "name": "stderr",
          "text": [
            "12029it [00:06, 1730.09it/s]\n"
          ]
        }
      ]
    },
    {
      "cell_type": "code",
      "source": [
        "cnt"
      ],
      "metadata": {
        "colab": {
          "base_uri": "https://localhost:8080/"
        },
        "id": "R7ZJ-C6OpwHG",
        "outputId": "d6bec400-fd15-4395-d9c8-95654a08d97c"
      },
      "execution_count": null,
      "outputs": [
        {
          "output_type": "execute_result",
          "data": {
            "text/plain": [
              "12029"
            ]
          },
          "metadata": {},
          "execution_count": 63
        }
      ]
    },
    {
      "cell_type": "code",
      "source": [
        "# 파일 존재 여부 확인\n",
        "!find content/MyDrive/data/train_images/25289/18681/ -name \"761.dcm\""
      ],
      "metadata": {
        "colab": {
          "base_uri": "https://localhost:8080/"
        },
        "id": "oT5RpOh9Ok_y",
        "outputId": "314f1aae-dd25-40fe-cfb4-4d2bce1dc3b1"
      },
      "execution_count": null,
      "outputs": [
        {
          "output_type": "stream",
          "name": "stdout",
          "text": [
            "content/MyDrive/data/train_images/25289/18681/761.dcm\n"
          ]
        }
      ]
    },
    {
      "cell_type": "code",
      "source": [],
      "metadata": {
        "id": "AefPmdapOhGE"
      },
      "execution_count": null,
      "outputs": []
    }
  ]
}